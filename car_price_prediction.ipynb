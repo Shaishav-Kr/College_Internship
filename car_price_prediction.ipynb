{
  "cells": [
    {
      "cell_type": "code",
      "execution_count": null,
      "metadata": {
        "execution": {
          "iopub.execute_input": "2024-04-11T17:37:19.968809Z",
          "iopub.status.busy": "2024-04-11T17:37:19.968439Z",
          "iopub.status.idle": "2024-04-11T17:37:23.767277Z",
          "shell.execute_reply": "2024-04-11T17:37:23.76614Z",
          "shell.execute_reply.started": "2024-04-11T17:37:19.96878Z"
        },
        "id": "QA1xQdUUXCHV",
        "trusted": true
      },
      "outputs": [],
      "source": [
        "import numpy as np\n",
        "import pandas as pd\n",
        "import seaborn as sns\n",
        "import matplotlib.pyplot as plt\n",
        "from scipy import stats\n",
        "\n",
        "import warnings\n",
        "warnings.filterwarnings(\"ignore\", category=FutureWarning)\n",
        "\n",
        "from sklearn import metrics\n",
        "from sklearn.model_selection import train_test_split, cross_val_score\n",
        "\n",
        "from sklearn.linear_model import LinearRegression\n",
        "from sklearn.linear_model import Ridge\n",
        "from sklearn.linear_model import Lasso\n",
        "from sklearn.linear_model import ElasticNet\n",
        "from sklearn.ensemble import RandomForestRegressor\n",
        "from sklearn.preprocessing import PolynomialFeatures\n",
        "\n",
        "from sklearn.metrics import mean_absolute_error, mean_squared_error, r2_score"
      ]
    },
    {
      "cell_type": "code",
      "execution_count": null,
      "metadata": {
        "execution": {
          "iopub.execute_input": "2024-04-11T17:37:23.770467Z",
          "iopub.status.busy": "2024-04-11T17:37:23.76973Z",
          "iopub.status.idle": "2024-04-11T17:37:23.84248Z",
          "shell.execute_reply": "2024-04-11T17:37:23.84127Z",
          "shell.execute_reply.started": "2024-04-11T17:37:23.770401Z"
        },
        "id": "n1d_IYZWXCHW",
        "trusted": true
      },
      "outputs": [],
      "source": [
        "df = pd.read_csv(\"train-data.csv\")"
      ]
    },
    {
      "cell_type": "code",
      "execution_count": null,
      "metadata": {
        "execution": {
          "iopub.execute_input": "2024-04-11T17:37:23.844315Z",
          "iopub.status.busy": "2024-04-11T17:37:23.843869Z",
          "iopub.status.idle": "2024-04-11T17:37:23.874744Z",
          "shell.execute_reply": "2024-04-11T17:37:23.873512Z",
          "shell.execute_reply.started": "2024-04-11T17:37:23.844275Z"
        },
        "id": "4FuL3DZoXCHW",
        "outputId": "c3a5d5d3-1a3e-4943-f1a0-dcc11313adfa",
        "trusted": true
      },
      "outputs": [],
      "source": [
        "df.head()"
      ]
    },
    {
      "cell_type": "code",
      "execution_count": null,
      "metadata": {
        "execution": {
          "iopub.execute_input": "2024-04-11T17:37:23.877739Z",
          "iopub.status.busy": "2024-04-11T17:37:23.877332Z",
          "iopub.status.idle": "2024-04-11T17:37:23.885579Z",
          "shell.execute_reply": "2024-04-11T17:37:23.884353Z",
          "shell.execute_reply.started": "2024-04-11T17:37:23.877706Z"
        },
        "id": "xw1j79QuXCHX",
        "outputId": "45bf4278-8816-4a1a-b50d-31058469d0d7",
        "trusted": true
      },
      "outputs": [],
      "source": [
        "df.shape"
      ]
    },
    {
      "cell_type": "code",
      "execution_count": null,
      "metadata": {
        "execution": {
          "iopub.execute_input": "2024-04-11T17:37:23.887863Z",
          "iopub.status.busy": "2024-04-11T17:37:23.887157Z",
          "iopub.status.idle": "2024-04-11T17:37:23.931814Z",
          "shell.execute_reply": "2024-04-11T17:37:23.930521Z",
          "shell.execute_reply.started": "2024-04-11T17:37:23.88783Z"
        },
        "id": "S9k6M6SBXCHX",
        "outputId": "032f61c8-aa87-4235-cc4c-9562e0bc6270",
        "trusted": true
      },
      "outputs": [],
      "source": [
        "df.info()"
      ]
    },
    {
      "cell_type": "code",
      "execution_count": null,
      "metadata": {
        "execution": {
          "iopub.execute_input": "2024-04-11T17:37:23.933624Z",
          "iopub.status.busy": "2024-04-11T17:37:23.933246Z",
          "iopub.status.idle": "2024-04-11T17:37:23.976794Z",
          "shell.execute_reply": "2024-04-11T17:37:23.975501Z",
          "shell.execute_reply.started": "2024-04-11T17:37:23.933592Z"
        },
        "id": "fhrcgjoUXCHY",
        "outputId": "09441473-3e2e-4900-b52e-0e456ef3807e",
        "trusted": true
      },
      "outputs": [],
      "source": [
        "# Description of Numeric Columns:\n",
        "df.describe(include='number')"
      ]
    },
    {
      "cell_type": "code",
      "execution_count": null,
      "metadata": {
        "execution": {
          "iopub.execute_input": "2024-04-11T17:37:23.979297Z",
          "iopub.status.busy": "2024-04-11T17:37:23.978855Z",
          "iopub.status.idle": "2024-04-11T17:37:24.036651Z",
          "shell.execute_reply": "2024-04-11T17:37:24.035367Z",
          "shell.execute_reply.started": "2024-04-11T17:37:23.979256Z"
        },
        "id": "VQKZwnZwXCHY",
        "outputId": "42b9af75-d6b1-4ce9-8617-332ad275499e",
        "trusted": true
      },
      "outputs": [],
      "source": [
        "# Description of Object Columns:\n",
        "df.describe(include='object')"
      ]
    },
    {
      "cell_type": "code",
      "execution_count": null,
      "metadata": {
        "execution": {
          "iopub.execute_input": "2024-04-11T17:37:24.038532Z",
          "iopub.status.busy": "2024-04-11T17:37:24.038131Z",
          "iopub.status.idle": "2024-04-11T17:37:24.055138Z",
          "shell.execute_reply": "2024-04-11T17:37:24.053831Z",
          "shell.execute_reply.started": "2024-04-11T17:37:24.038501Z"
        },
        "id": "pxlCK8blXCHZ",
        "outputId": "ca540061-9b9f-4d4d-87e2-0804530ddf48",
        "trusted": true
      },
      "outputs": [],
      "source": [
        "df.isna().sum()"
      ]
    },
    {
      "cell_type": "code",
      "execution_count": null,
      "metadata": {
        "execution": {
          "iopub.execute_input": "2024-04-11T17:37:24.057103Z",
          "iopub.status.busy": "2024-04-11T17:37:24.056693Z",
          "iopub.status.idle": "2024-04-11T17:37:24.075095Z",
          "shell.execute_reply": "2024-04-11T17:37:24.073652Z",
          "shell.execute_reply.started": "2024-04-11T17:37:24.057072Z"
        },
        "id": "v1vRbDkfXCHZ",
        "trusted": true
      },
      "outputs": [],
      "source": [
        "df.drop(columns = ['Unnamed: 0','New_Price'],inplace = True)"
      ]
    },
    {
      "cell_type": "code",
      "execution_count": null,
      "metadata": {
        "execution": {
          "iopub.execute_input": "2024-04-11T17:37:24.081521Z",
          "iopub.status.busy": "2024-04-11T17:37:24.081085Z",
          "iopub.status.idle": "2024-04-11T17:37:24.103319Z",
          "shell.execute_reply": "2024-04-11T17:37:24.101494Z",
          "shell.execute_reply.started": "2024-04-11T17:37:24.081486Z"
        },
        "id": "CZay6zdUXCHZ",
        "outputId": "2ecbdec8-6e9b-46f1-cf35-822e5eb0c8c3",
        "trusted": true
      },
      "outputs": [],
      "source": [
        "df.duplicated().sum()\n",
        "# df[df.duplicated(keep=False)]"
      ]
    },
    {
      "cell_type": "code",
      "execution_count": null,
      "metadata": {
        "execution": {
          "iopub.execute_input": "2024-04-11T17:37:24.105391Z",
          "iopub.status.busy": "2024-04-11T17:37:24.104982Z",
          "iopub.status.idle": "2024-04-11T17:37:24.149561Z",
          "shell.execute_reply": "2024-04-11T17:37:24.148277Z",
          "shell.execute_reply.started": "2024-04-11T17:37:24.105361Z"
        },
        "id": "zDgK7TReXCHa",
        "trusted": true
      },
      "outputs": [],
      "source": [
        "df['Mileage'] = df['Mileage'].str.split(expand=True)[0].astype(float)\n",
        "df['Engine'] = df['Engine'].str.split(expand=True)[0].astype(float)"
      ]
    },
    {
      "cell_type": "code",
      "execution_count": null,
      "metadata": {
        "execution": {
          "iopub.execute_input": "2024-04-11T17:37:24.151335Z",
          "iopub.status.busy": "2024-04-11T17:37:24.150982Z",
          "iopub.status.idle": "2024-04-11T17:37:24.182136Z",
          "shell.execute_reply": "2024-04-11T17:37:24.180492Z",
          "shell.execute_reply.started": "2024-04-11T17:37:24.151305Z"
        },
        "id": "npxWMSjEXCHa",
        "outputId": "27abd3f0-6c43-44c0-e5ec-95145885fcc6",
        "trusted": true
      },
      "outputs": [],
      "source": [
        "df['Power'] = df['Power'].replace('null bhp',None)\n",
        "print('The number of data appearing as \"null nhp\":', (df['Power'] == 'null bhp').sum())\n",
        "df['Power'] = df['Power'].str.split(expand=True)[0].astype(float)"
      ]
    },
    {
      "cell_type": "code",
      "execution_count": null,
      "metadata": {
        "execution": {
          "iopub.execute_input": "2024-04-11T17:37:24.184827Z",
          "iopub.status.busy": "2024-04-11T17:37:24.184357Z",
          "iopub.status.idle": "2024-04-11T17:37:24.221855Z",
          "shell.execute_reply": "2024-04-11T17:37:24.220508Z",
          "shell.execute_reply.started": "2024-04-11T17:37:24.18478Z"
        },
        "id": "4aVLevafXCHa",
        "outputId": "cff575ad-0156-41cc-fa2b-c62be6a7feec",
        "trusted": true
      },
      "outputs": [],
      "source": [
        "# Taking a look at the first 5 rows of the dataset\n",
        "df.head()"
      ]
    },
    {
      "cell_type": "code",
      "execution_count": null,
      "metadata": {
        "execution": {
          "iopub.execute_input": "2024-04-11T17:37:24.224126Z",
          "iopub.status.busy": "2024-04-11T17:37:24.223657Z",
          "iopub.status.idle": "2024-04-11T17:37:24.252288Z",
          "shell.execute_reply": "2024-04-11T17:37:24.250481Z",
          "shell.execute_reply.started": "2024-04-11T17:37:24.224076Z"
        },
        "id": "GUo3tNHUXCHb",
        "outputId": "0c775e94-05f0-43a0-b408-a9661fd87bbc",
        "scrolled": true,
        "trusted": true
      },
      "outputs": [],
      "source": [
        "df.isna().sum()"
      ]
    },
    {
      "cell_type": "code",
      "execution_count": null,
      "metadata": {
        "execution": {
          "iopub.execute_input": "2024-04-11T17:37:24.255003Z",
          "iopub.status.busy": "2024-04-11T17:37:24.254192Z",
          "iopub.status.idle": "2024-04-11T17:37:24.273071Z",
          "shell.execute_reply": "2024-04-11T17:37:24.271838Z",
          "shell.execute_reply.started": "2024-04-11T17:37:24.254958Z"
        },
        "id": "CzpZS7vnXCHb",
        "trusted": true
      },
      "outputs": [],
      "source": [
        "df['Mileage'].fillna(df['Mileage'].mean(), inplace=True)\n",
        "df['Engine'].fillna(df['Engine'].mean(), inplace=True)\n",
        "df['Power'].fillna(df['Power'].mean(), inplace=True)\n",
        "df['Seats'].fillna(df['Seats'].mean(), inplace=True)"
      ]
    },
    {
      "cell_type": "code",
      "execution_count": null,
      "metadata": {
        "execution": {
          "iopub.execute_input": "2024-04-11T17:37:24.275267Z",
          "iopub.status.busy": "2024-04-11T17:37:24.274828Z",
          "iopub.status.idle": "2024-04-11T17:37:24.302252Z",
          "shell.execute_reply": "2024-04-11T17:37:24.300885Z",
          "shell.execute_reply.started": "2024-04-11T17:37:24.275235Z"
        },
        "id": "OnnTltxkXCHb",
        "outputId": "b59e923e-d8aa-44ab-83a1-5d40915e75cf",
        "trusted": true
      },
      "outputs": [],
      "source": [
        "df.isna().sum()"
      ]
    },
    {
      "cell_type": "code",
      "execution_count": null,
      "metadata": {
        "execution": {
          "iopub.execute_input": "2024-04-11T17:37:24.304675Z",
          "iopub.status.busy": "2024-04-11T17:37:24.304164Z",
          "iopub.status.idle": "2024-04-11T17:37:24.324255Z",
          "shell.execute_reply": "2024-04-11T17:37:24.323012Z",
          "shell.execute_reply.started": "2024-04-11T17:37:24.304632Z"
        },
        "id": "oa8O4d_7XCHc",
        "outputId": "13c7ed56-44d8-4ef8-c0d3-98d6f86f3c59",
        "trusted": true
      },
      "outputs": [],
      "source": [
        "df.shape"
      ]
    },
    {
      "cell_type": "markdown",
      "metadata": {
        "id": "1qznQRXFXCHc"
      },
      "source": [
        "<div style=\"border: 2px solid #000000; border-radius: 5px; padding: 10px; font-family: 'Times New Roman', Times, serif; font-size: 18px;\">\n",
        "    <div style=\"text-align: left;\">\n",
        "        <p style=\"font-size: 18px;\">Removing an observation simply because it is an outlier is not an acceptable approach. These may be legitimate observations, and it is important to investigate why the outlier is the way it is before deciding whether to drop it. We are only allowed to remove outliers in the following two cases:</p>\n",
        "        <ol style=\"font-size: 18px;\">\n",
        "            <li><em>If the outlier is caused by incorrectly entered or measured data</em></li>\n",
        "            <li><em>If the outlier creates a significant relationship</em></li>\n",
        "        </ol>\n",
        "        <p style=\"font-size: 18px;\">When the columns with outliers in the numeric data type are examined, it will be appropriate to perform operations only on the 'Kilometers_Driven' column.\n",
        "        </p>\n",
        "        <p style=\"font-size: 18px;\"><em>IQR</em> or <em>Z-Score</em> can be used to identify outliers.</p>\n",
        "    </div>\n",
        "</div>"
      ]
    },
    {
      "cell_type": "code",
      "execution_count": null,
      "metadata": {
        "execution": {
          "iopub.execute_input": "2024-04-11T17:37:24.32612Z",
          "iopub.status.busy": "2024-04-11T17:37:24.325741Z",
          "iopub.status.idle": "2024-04-11T17:37:24.350739Z",
          "shell.execute_reply": "2024-04-11T17:37:24.349371Z",
          "shell.execute_reply.started": "2024-04-11T17:37:24.326088Z"
        },
        "id": "BuhO3dkxXCHc",
        "outputId": "42e595a8-9244-4ac2-c076-9d793ebd1235",
        "trusted": true
      },
      "outputs": [],
      "source": [
        "# Calculating Z-Score\n",
        "z_scores = stats.zscore(df[\"Kilometers_Driven\"])\n",
        "\n",
        "# Identifying outliers using Z-Score\n",
        "threshold = 2.5  # Usually 2.5 or 3 can be chosen\n",
        "outliers = df['Kilometers_Driven'][abs(z_scores) > threshold]\n",
        "\n",
        "outliers"
      ]
    },
    {
      "cell_type": "code",
      "execution_count": null,
      "metadata": {
        "execution": {
          "iopub.execute_input": "2024-04-11T17:37:24.353321Z",
          "iopub.status.busy": "2024-04-11T17:37:24.352876Z",
          "iopub.status.idle": "2024-04-11T17:37:24.373008Z",
          "shell.execute_reply": "2024-04-11T17:37:24.371489Z",
          "shell.execute_reply.started": "2024-04-11T17:37:24.353279Z"
        },
        "id": "Lhk-UgHJXCHd",
        "trusted": true
      },
      "outputs": [],
      "source": [
        "df = df[df[\"Kilometers_Driven\"] <= 300000]"
      ]
    },
    {
      "cell_type": "code",
      "execution_count": null,
      "metadata": {
        "execution": {
          "iopub.execute_input": "2024-04-11T17:37:24.375579Z",
          "iopub.status.busy": "2024-04-11T17:37:24.375079Z",
          "iopub.status.idle": "2024-04-11T17:37:24.392039Z",
          "shell.execute_reply": "2024-04-11T17:37:24.390359Z",
          "shell.execute_reply.started": "2024-04-11T17:37:24.375534Z"
        },
        "id": "7XlP0lzXXCHd",
        "outputId": "80465b0e-9dc8-4e1c-d9e2-f79fec7d1335",
        "trusted": true
      },
      "outputs": [],
      "source": [
        "df[\"Seats\"].min()"
      ]
    },
    {
      "cell_type": "code",
      "execution_count": null,
      "metadata": {
        "execution": {
          "iopub.execute_input": "2024-04-11T17:37:24.394108Z",
          "iopub.status.busy": "2024-04-11T17:37:24.39368Z",
          "iopub.status.idle": "2024-04-11T17:37:24.417833Z",
          "shell.execute_reply": "2024-04-11T17:37:24.416517Z",
          "shell.execute_reply.started": "2024-04-11T17:37:24.394075Z"
        },
        "id": "2Dg_4y05XCHh",
        "trusted": true
      },
      "outputs": [],
      "source": [
        "df = df[df['Seats'] != 0]"
      ]
    },
    {
      "cell_type": "code",
      "execution_count": null,
      "metadata": {
        "execution": {
          "iopub.execute_input": "2024-04-11T17:37:24.420151Z",
          "iopub.status.busy": "2024-04-11T17:37:24.419773Z",
          "iopub.status.idle": "2024-04-11T17:37:24.437892Z",
          "shell.execute_reply": "2024-04-11T17:37:24.43644Z",
          "shell.execute_reply.started": "2024-04-11T17:37:24.420111Z"
        },
        "id": "u5sTIpLsXCHh",
        "outputId": "c6964bce-f2b9-4a9f-e438-69ce1ec7d73e",
        "trusted": true
      },
      "outputs": [],
      "source": [
        "df['Name'].nunique()"
      ]
    },
    {
      "cell_type": "code",
      "execution_count": null,
      "metadata": {
        "execution": {
          "iopub.execute_input": "2024-04-11T17:37:24.440389Z",
          "iopub.status.busy": "2024-04-11T17:37:24.439932Z",
          "iopub.status.idle": "2024-04-11T17:37:24.47247Z",
          "shell.execute_reply": "2024-04-11T17:37:24.470774Z",
          "shell.execute_reply.started": "2024-04-11T17:37:24.440348Z"
        },
        "id": "UIWnrFgHXCHi",
        "outputId": "515fdb69-c424-4382-b8f6-f2f712d51247",
        "trusted": true
      },
      "outputs": [],
      "source": [
        "df.sample()"
      ]
    },
    {
      "cell_type": "code",
      "execution_count": null,
      "metadata": {
        "execution": {
          "iopub.execute_input": "2024-04-11T17:37:24.474924Z",
          "iopub.status.busy": "2024-04-11T17:37:24.47394Z",
          "iopub.status.idle": "2024-04-11T17:37:24.529799Z",
          "shell.execute_reply": "2024-04-11T17:37:24.528331Z",
          "shell.execute_reply.started": "2024-04-11T17:37:24.47489Z"
        },
        "id": "YQcpMRmMXCHi",
        "trusted": true
      },
      "outputs": [],
      "source": [
        "df['Company'] = df['Name'].str.split(expand=True)[0].str.lower()\n",
        "df['Model'] = df['Name'].str.split().str[0:2].str.join(' ').str.lower()\n",
        "df.drop(columns = ['Name'],inplace = True)"
      ]
    },
    {
      "cell_type": "code",
      "execution_count": null,
      "metadata": {
        "execution": {
          "iopub.execute_input": "2024-04-11T17:37:24.531903Z",
          "iopub.status.busy": "2024-04-11T17:37:24.531451Z",
          "iopub.status.idle": "2024-04-11T17:37:24.544836Z",
          "shell.execute_reply": "2024-04-11T17:37:24.542774Z",
          "shell.execute_reply.started": "2024-04-11T17:37:24.531861Z"
        },
        "id": "5P17B6yaXCHi",
        "outputId": "8203d598-c59c-41d3-e98a-724714f50b1d",
        "trusted": true
      },
      "outputs": [],
      "source": [
        "df['Company'].nunique() , df['Model'].nunique()"
      ]
    },
    {
      "cell_type": "code",
      "execution_count": null,
      "metadata": {
        "execution": {
          "iopub.execute_input": "2024-04-11T17:37:24.547132Z",
          "iopub.status.busy": "2024-04-11T17:37:24.546698Z",
          "iopub.status.idle": "2024-04-11T17:37:24.567343Z",
          "shell.execute_reply": "2024-04-11T17:37:24.565544Z",
          "shell.execute_reply.started": "2024-04-11T17:37:24.547097Z"
        },
        "id": "QNENPjnKXCHi",
        "trusted": true
      },
      "outputs": [],
      "source": [
        "new_order = ['Company', 'Model', 'Location', 'Owner_Type', 'Fuel_Type', 'Transmission',\n",
        "             'Year', 'Kilometers_Driven', 'Mileage', 'Engine', 'Power', 'Seats', 'Price']\n",
        "df = df.reindex(columns=new_order)"
      ]
    },
    {
      "cell_type": "code",
      "execution_count": null,
      "metadata": {
        "execution": {
          "iopub.execute_input": "2024-04-11T17:37:24.57024Z",
          "iopub.status.busy": "2024-04-11T17:37:24.56967Z",
          "iopub.status.idle": "2024-04-11T17:37:24.608945Z",
          "shell.execute_reply": "2024-04-11T17:37:24.607483Z",
          "shell.execute_reply.started": "2024-04-11T17:37:24.570194Z"
        },
        "id": "OKvH-mF-XCHj",
        "outputId": "5f6aa4eb-f1de-4655-cf82-1a24152fda87",
        "scrolled": true,
        "trusted": true
      },
      "outputs": [],
      "source": [
        "df.sample()"
      ]
    },
    {
      "cell_type": "code",
      "execution_count": null,
      "metadata": {
        "execution": {
          "iopub.execute_input": "2024-04-11T17:37:24.622925Z",
          "iopub.status.busy": "2024-04-11T17:37:24.622158Z",
          "iopub.status.idle": "2024-04-11T17:37:25.410153Z",
          "shell.execute_reply": "2024-04-11T17:37:25.40875Z",
          "shell.execute_reply.started": "2024-04-11T17:37:24.622888Z"
        },
        "id": "HRZqD-kzXCHk",
        "outputId": "44d74568-07dc-4fca-d6fa-88d9c8e92787",
        "trusted": true
      },
      "outputs": [],
      "source": [
        "plt.figure(figsize=(20, 4), dpi=100)\n",
        "graph = sns.countplot(data=df, x='Company')\n",
        "plt.xticks(rotation=45, fontsize=12)\n",
        "plt.yticks(fontsize=12)\n",
        "plt.title('\"Company\"', fontsize=15)\n",
        "for cont in graph.containers:\n",
        "        graph.bar_label(cont)\n",
        "plt.show()"
      ]
    },
    {
      "cell_type": "code",
      "execution_count": null,
      "metadata": {
        "execution": {
          "iopub.execute_input": "2024-04-11T17:37:25.412119Z",
          "iopub.status.busy": "2024-04-11T17:37:25.411705Z",
          "iopub.status.idle": "2024-04-11T17:37:25.426217Z",
          "shell.execute_reply": "2024-04-11T17:37:25.42506Z",
          "shell.execute_reply.started": "2024-04-11T17:37:25.41208Z"
        },
        "id": "Mz57s3QqXCHk",
        "outputId": "c3f3d5b1-c804-403b-c92b-5191cabbdf92",
        "scrolled": true,
        "trusted": true
      },
      "outputs": [],
      "source": [
        "df.Model.value_counts()"
      ]
    },
    {
      "cell_type": "code",
      "execution_count": null,
      "metadata": {
        "execution": {
          "iopub.execute_input": "2024-04-11T17:37:25.429009Z",
          "iopub.status.busy": "2024-04-11T17:37:25.427866Z",
          "iopub.status.idle": "2024-04-11T17:37:25.444705Z",
          "shell.execute_reply": "2024-04-11T17:37:25.443707Z",
          "shell.execute_reply.started": "2024-04-11T17:37:25.428966Z"
        },
        "id": "JQOWj7qBXCHl",
        "trusted": true
      },
      "outputs": [],
      "source": [
        "threshold = 10\n",
        "counts = df['Model'].value_counts()\n",
        "filtered_models = counts[counts >= threshold].index.tolist()\n",
        "df = df[df['Model'].isin(filtered_models)]"
      ]
    },
    {
      "cell_type": "code",
      "execution_count": null,
      "metadata": {
        "execution": {
          "iopub.execute_input": "2024-04-11T17:37:25.446985Z",
          "iopub.status.busy": "2024-04-11T17:37:25.446328Z",
          "iopub.status.idle": "2024-04-11T17:37:27.554442Z",
          "shell.execute_reply": "2024-04-11T17:37:27.553236Z",
          "shell.execute_reply.started": "2024-04-11T17:37:25.446951Z"
        },
        "id": "Id6JUbmuXCHn",
        "outputId": "2fd6ee5a-6f60-4288-ea7b-6dadedb3931d",
        "trusted": true
      },
      "outputs": [],
      "source": [
        "plt.figure(figsize=(20,6), dpi=100)\n",
        "graph = sns.countplot(data=df, x='Model')\n",
        "plt.xticks(rotation=90, fontsize=12)\n",
        "plt.yticks(fontsize=12)\n",
        "plt.title('\"Model\"', fontsize=15)\n",
        "for cont in graph.containers:\n",
        "        graph.bar_label(cont)\n",
        "plt.show()"
      ]
    },
    {
      "cell_type": "code",
      "execution_count": null,
      "metadata": {
        "execution": {
          "iopub.execute_input": "2024-04-11T17:37:27.556251Z",
          "iopub.status.busy": "2024-04-11T17:37:27.555906Z",
          "iopub.status.idle": "2024-04-11T17:37:27.99977Z",
          "shell.execute_reply": "2024-04-11T17:37:27.998568Z",
          "shell.execute_reply.started": "2024-04-11T17:37:27.55622Z"
        },
        "id": "5Wy4FQL3XCHn",
        "outputId": "2de0b2e5-8145-4721-ef45-376de5c8aed9",
        "trusted": true
      },
      "outputs": [],
      "source": [
        "plt.figure(figsize=(20,4), dpi=100)\n",
        "graph = sns.countplot(data=df, x='Location')\n",
        "plt.xticks(rotation=45, fontsize=12)\n",
        "plt.yticks(fontsize=12)\n",
        "plt.title('\"Location\"', fontsize=15)\n",
        "for cont in graph.containers:\n",
        "        graph.bar_label(cont)\n",
        "plt.show()"
      ]
    },
    {
      "cell_type": "code",
      "execution_count": null,
      "metadata": {
        "execution": {
          "iopub.execute_input": "2024-04-11T17:37:28.001772Z",
          "iopub.status.busy": "2024-04-11T17:37:28.001317Z",
          "iopub.status.idle": "2024-04-11T17:37:28.237838Z",
          "shell.execute_reply": "2024-04-11T17:37:28.236618Z",
          "shell.execute_reply.started": "2024-04-11T17:37:28.00173Z"
        },
        "id": "ioJtspswXCHo",
        "outputId": "c3a2da32-9250-49df-bc30-c26a769351b1",
        "trusted": true
      },
      "outputs": [],
      "source": [
        "plt.figure(figsize=(10, 4), dpi=100)\n",
        "graph = sns.countplot(data=df, x='Owner_Type')\n",
        "plt.xticks(rotation=0, fontsize=12)\n",
        "plt.yticks(fontsize=12)\n",
        "plt.title('\"Owner_Type\"', fontsize=15)\n",
        "for cont in graph.containers:\n",
        "        graph.bar_label(cont)\n",
        "plt.show()"
      ]
    },
    {
      "cell_type": "code",
      "execution_count": null,
      "metadata": {
        "execution": {
          "iopub.execute_input": "2024-04-11T17:37:28.239937Z",
          "iopub.status.busy": "2024-04-11T17:37:28.239562Z",
          "iopub.status.idle": "2024-04-11T17:37:28.546682Z",
          "shell.execute_reply": "2024-04-11T17:37:28.545505Z",
          "shell.execute_reply.started": "2024-04-11T17:37:28.239905Z"
        },
        "id": "tJGyS2cOXCHo",
        "outputId": "c39251e1-633b-4196-af50-d146d4117503",
        "trusted": true
      },
      "outputs": [],
      "source": [
        "plt.figure(figsize=(10, 4), dpi=100)\n",
        "graph = sns.countplot(data=df, x='Fuel_Type')\n",
        "plt.xticks(rotation=0, fontsize=12)\n",
        "plt.yticks(fontsize=12)\n",
        "plt.title('\"Fuel_Type\"', fontsize=15)\n",
        "for cont in graph.containers:\n",
        "        graph.bar_label(cont)\n",
        "plt.show()"
      ]
    },
    {
      "cell_type": "code",
      "execution_count": null,
      "metadata": {
        "execution": {
          "iopub.execute_input": "2024-04-11T17:37:28.548278Z",
          "iopub.status.busy": "2024-04-11T17:37:28.547939Z",
          "iopub.status.idle": "2024-04-11T17:37:28.781018Z",
          "shell.execute_reply": "2024-04-11T17:37:28.779965Z",
          "shell.execute_reply.started": "2024-04-11T17:37:28.548249Z"
        },
        "id": "dkphNQSBXCHp",
        "outputId": "312d1652-41aa-427c-954a-5b64c8e1c0c6",
        "trusted": true
      },
      "outputs": [],
      "source": [
        "plt.figure(figsize=(10, 4), dpi=100)\n",
        "graph = sns.countplot(data=df, x='Transmission')\n",
        "plt.xticks(rotation=0, fontsize=12)\n",
        "plt.yticks(fontsize=12)\n",
        "plt.title('\"Transmission\"', fontsize=15)\n",
        "for cont in graph.containers:\n",
        "        graph.bar_label(cont)\n",
        "plt.show()"
      ]
    },
    {
      "cell_type": "code",
      "execution_count": null,
      "metadata": {
        "execution": {
          "iopub.execute_input": "2024-04-11T17:37:28.782972Z",
          "iopub.status.busy": "2024-04-11T17:37:28.782609Z",
          "iopub.status.idle": "2024-04-11T17:37:29.423626Z",
          "shell.execute_reply": "2024-04-11T17:37:29.422482Z",
          "shell.execute_reply.started": "2024-04-11T17:37:28.782942Z"
        },
        "id": "wWEXB4_sXCHq",
        "outputId": "e1bf5e60-dc6d-47de-f285-625db1802a74",
        "trusted": true
      },
      "outputs": [],
      "source": [
        "plt.figure(figsize=(10, 6), dpi=100)\n",
        "graph = sns.histplot(data=df, x='Year', bins=21, # 1998-2019 arası olduğu için\n",
        "                     kde=True, edgecolor='white', alpha=0.5, line_kws={'lw': 2.5})\n",
        "plt.xticks(rotation=45, fontsize=12)\n",
        "plt.yticks(fontsize=12)\n",
        "plt.title('\"Year\"', fontsize=15)\n",
        "\n",
        "textstr = '\\n'.join((\n",
        "    r'$\\mu=%.2f$' %df['Year'].mean(),\n",
        "    r'$\\sigma=%.2f$' %df['Year'].std(),\n",
        "    r'$\\mathrm{median}=%.2f$' %np.median(df['Year']),\n",
        "    r'$\\mathrm{min}=%.2f$' %df['Year'].min(),\n",
        "    r'$\\mathrm{max}=%.2f$' %df['Year'].max()\n",
        "))\n",
        "\n",
        "plt.text(0.05, 0.7, textstr, transform=graph.transAxes, fontsize=14, bbox=dict(facecolor='white', alpha=0.7))\n",
        "\n",
        "plt.show()"
      ]
    },
    {
      "cell_type": "code",
      "execution_count": null,
      "metadata": {
        "execution": {
          "iopub.execute_input": "2024-04-11T17:37:29.425749Z",
          "iopub.status.busy": "2024-04-11T17:37:29.425242Z",
          "iopub.status.idle": "2024-04-11T17:37:30.03963Z",
          "shell.execute_reply": "2024-04-11T17:37:30.038506Z",
          "shell.execute_reply.started": "2024-04-11T17:37:29.425703Z"
        },
        "id": "lrgXWPM2XCHq",
        "outputId": "2b39751c-f312-4531-ce48-6e83a6af0a08",
        "trusted": true
      },
      "outputs": [],
      "source": [
        "plt.figure(figsize=(10, 6), dpi=100)\n",
        "graph = sns.histplot(data=df, x='Kilometers_Driven', kde=True, edgecolor='white', alpha=0.5, line_kws={'lw': 2})\n",
        "plt.xticks(rotation=45, fontsize=12)\n",
        "plt.yticks(fontsize=12)\n",
        "plt.title('\"Kilometers_Driven\"', fontsize=15)\n",
        "\n",
        "textstr = '\\n'.join((\n",
        "    r'$\\mu=%.2f$' %df['Kilometers_Driven'].mean(),\n",
        "    r'$\\sigma=%.2f$' %df['Kilometers_Driven'].std(),\n",
        "    r'$\\mathrm{median}=%.2f$' %np.median(df['Kilometers_Driven']),\n",
        "    r'$\\mathrm{min}=%.2f$' %df['Kilometers_Driven'].min(),\n",
        "    r'$\\mathrm{max}=%.2f$' %df['Kilometers_Driven'].max()\n",
        "))\n",
        "\n",
        "plt.text(0.725, 0.7, textstr, transform=graph.transAxes, fontsize=14, bbox=dict(facecolor='white', alpha=0.7))\n",
        "\n",
        "plt.show()"
      ]
    },
    {
      "cell_type": "code",
      "execution_count": null,
      "metadata": {
        "execution": {
          "iopub.execute_input": "2024-04-11T17:37:30.041635Z",
          "iopub.status.busy": "2024-04-11T17:37:30.041177Z",
          "iopub.status.idle": "2024-04-11T17:37:30.72657Z",
          "shell.execute_reply": "2024-04-11T17:37:30.725131Z",
          "shell.execute_reply.started": "2024-04-11T17:37:30.041587Z"
        },
        "id": "56Usk0uQXCHr",
        "outputId": "410d6019-48d7-40c8-960e-516cff2e536c",
        "trusted": true
      },
      "outputs": [],
      "source": [
        "plt.figure(figsize=(10, 6), dpi=100)\n",
        "graph = sns.histplot(data=df, x='Mileage', kde=True, edgecolor='white', alpha=0.5, line_kws={'lw': 2.5})\n",
        "plt.xticks(rotation=45, fontsize=12)\n",
        "plt.yticks(fontsize=12)\n",
        "plt.title('\"Mileage\"', fontsize=15)\n",
        "\n",
        "textstr = '\\n'.join((\n",
        "    r'$\\mu=%.2f$' %df['Mileage'].mean(),\n",
        "    r'$\\sigma=%.2f$' %df['Mileage'].std(),\n",
        "    r'$\\mathrm{median}=%.2f$' %np.median(df['Mileage']),\n",
        "    r'$\\mathrm{min}=%.2f$' %df['Mileage'].min(),\n",
        "    r'$\\mathrm{max}=%.2f$' %df['Mileage'].max()\n",
        "))\n",
        "\n",
        "plt.text(0.725, 0.7, textstr, transform=graph.transAxes, fontsize=14, bbox=dict(facecolor='white', alpha=0.7))\n",
        "\n",
        "plt.show()"
      ]
    },
    {
      "cell_type": "code",
      "execution_count": null,
      "metadata": {
        "execution": {
          "iopub.execute_input": "2024-04-11T17:37:30.728725Z",
          "iopub.status.busy": "2024-04-11T17:37:30.728274Z",
          "iopub.status.idle": "2024-04-11T17:37:31.261704Z",
          "shell.execute_reply": "2024-04-11T17:37:31.260504Z",
          "shell.execute_reply.started": "2024-04-11T17:37:30.728684Z"
        },
        "id": "h-mgznuBXCHs",
        "outputId": "b54844a2-f2c6-4971-8efb-f7be8860c6fe",
        "trusted": true
      },
      "outputs": [],
      "source": [
        "plt.figure(figsize=(10, 6), dpi=100)\n",
        "graph = sns.histplot(data=df, x='Engine', kde=True, edgecolor='white', alpha=0.5, line_kws={'lw': 2.5})\n",
        "plt.xticks(rotation=45, fontsize=12)\n",
        "plt.yticks(fontsize=12)\n",
        "plt.title('\"Engine\"', fontsize=15)\n",
        "\n",
        "textstr = '\\n'.join((\n",
        "    r'$\\mu=%.2f$' %df['Engine'].mean(),\n",
        "    r'$\\sigma=%.2f$' %df['Engine'].std(),\n",
        "    r'$\\mathrm{median}=%.2f$' %np.median(df['Engine']),\n",
        "    r'$\\mathrm{min}=%.2f$' %df['Engine'].min(),\n",
        "    r'$\\mathrm{max}=%.2f$' %df['Engine'].max()\n",
        "))\n",
        "\n",
        "plt.text(0.725, 0.7, textstr, transform=graph.transAxes, fontsize=14, bbox=dict(facecolor='white', alpha=0.7))\n",
        "\n",
        "plt.show()"
      ]
    },
    {
      "cell_type": "code",
      "execution_count": null,
      "metadata": {
        "execution": {
          "iopub.execute_input": "2024-04-11T17:37:31.26389Z",
          "iopub.status.busy": "2024-04-11T17:37:31.263403Z",
          "iopub.status.idle": "2024-04-11T17:37:31.886749Z",
          "shell.execute_reply": "2024-04-11T17:37:31.885226Z",
          "shell.execute_reply.started": "2024-04-11T17:37:31.263849Z"
        },
        "id": "E-rPZt5oXCHt",
        "outputId": "b036daf0-1400-4b8d-c0c1-de0713ca529d",
        "trusted": true
      },
      "outputs": [],
      "source": [
        "plt.figure(figsize=(10, 6), dpi=100)\n",
        "graph = sns.histplot(data=df, x='Power', kde=True, edgecolor='white', alpha=0.5, line_kws={'lw': 2.5})\n",
        "plt.xticks(rotation=45, fontsize=12)\n",
        "plt.yticks(fontsize=12)\n",
        "plt.title('\"Power\"', fontsize=15)\n",
        "\n",
        "textstr = '\\n'.join((\n",
        "    r'$\\mu=%.2f$' %df['Power'].mean(),\n",
        "    r'$\\sigma=%.2f$' %df['Power'].std(),\n",
        "    r'$\\mathrm{median}=%.2f$' %np.median(df['Power']),\n",
        "    r'$\\mathrm{min}=%.2f$' %df['Power'].min(),\n",
        "    r'$\\mathrm{max}=%.2f$' %df['Power'].max()\n",
        "))\n",
        "\n",
        "plt.text(0.75, 0.7, textstr, transform=graph.transAxes, fontsize=14, bbox=dict(facecolor='white', alpha=0.7))\n",
        "\n",
        "plt.show()"
      ]
    },
    {
      "cell_type": "code",
      "execution_count": null,
      "metadata": {
        "execution": {
          "iopub.execute_input": "2024-04-11T17:37:31.888812Z",
          "iopub.status.busy": "2024-04-11T17:37:31.888364Z",
          "iopub.status.idle": "2024-04-11T17:37:32.393389Z",
          "shell.execute_reply": "2024-04-11T17:37:32.392157Z",
          "shell.execute_reply.started": "2024-04-11T17:37:31.888777Z"
        },
        "id": "Md12gD9BXCHt",
        "outputId": "e21bd1e8-9968-4875-b558-a52b1b527f17",
        "trusted": true
      },
      "outputs": [],
      "source": [
        "plt.figure(figsize=(10, 6), dpi=100)\n",
        "graph = sns.histplot(data=df, x='Seats', bins=11, kde=True, edgecolor='white', alpha=0.5, line_kws={'lw': 2.5})\n",
        "plt.xticks(rotation=45, fontsize=12)\n",
        "plt.yticks(fontsize=12)\n",
        "plt.title('\"Seats\"', fontsize=15)\n",
        "\n",
        "textstr = '\\n'.join((\n",
        "    r'$\\mu=%.2f$' %df['Seats'].mean(),\n",
        "    r'$\\sigma=%.2f$' %df['Seats'].std(),\n",
        "    r'$\\mathrm{median}=%.2f$' %np.median(df['Seats']),\n",
        "    r'$\\mathrm{min}=%.2f$' %df['Seats'].min(),\n",
        "    r'$\\mathrm{max}=%.2f$' %df['Seats'].max()\n",
        "))\n",
        "\n",
        "plt.text(0.755, 0.7, textstr, transform=graph.transAxes, fontsize=14, bbox=dict(facecolor='white', alpha=0.7))\n",
        "\n",
        "plt.show()"
      ]
    },
    {
      "cell_type": "code",
      "execution_count": null,
      "metadata": {
        "execution": {
          "iopub.execute_input": "2024-04-11T17:37:32.395129Z",
          "iopub.status.busy": "2024-04-11T17:37:32.394809Z",
          "iopub.status.idle": "2024-04-11T17:37:32.951064Z",
          "shell.execute_reply": "2024-04-11T17:37:32.949941Z",
          "shell.execute_reply.started": "2024-04-11T17:37:32.3951Z"
        },
        "id": "uQyIZhzFXCHt",
        "outputId": "9141daf7-623b-44a7-d57c-0209b2ad6f13",
        "trusted": true
      },
      "outputs": [],
      "source": [
        "plt.figure(figsize=(10, 6), dpi=100)\n",
        "graph = sns.histplot(data=df, x='Price', bins=11, kde=True, edgecolor='white', alpha=0.5, line_kws={'lw': 2.5})\n",
        "plt.xticks(rotation=45, fontsize=12)\n",
        "plt.yticks(fontsize=12)\n",
        "plt.title('\"Price\"', fontsize=15)\n",
        "\n",
        "textstr = '\\n'.join((\n",
        "    r'$\\mu=%.2f$' %df['Price'].mean(),\n",
        "    r'$\\sigma=%.2f$' %df['Price'].std(),\n",
        "    r'$\\mathrm{median}=%.2f$' %np.median(df['Price']),\n",
        "    r'$\\mathrm{min}=%.2f$' %df['Price'].min(),\n",
        "    r'$\\mathrm{max}=%.2f$' %df['Price'].max()\n",
        "))\n",
        "\n",
        "plt.text(0.755, 0.7, textstr, transform=graph.transAxes, fontsize=14, bbox=dict(facecolor='white', alpha=0.7))\n",
        "\n",
        "plt.show()"
      ]
    },
    {
      "cell_type": "code",
      "execution_count": null,
      "metadata": {
        "execution": {
          "iopub.execute_input": "2024-04-11T17:37:32.953189Z",
          "iopub.status.busy": "2024-04-11T17:37:32.952758Z",
          "iopub.status.idle": "2024-04-11T17:37:33.714897Z",
          "shell.execute_reply": "2024-04-11T17:37:33.713588Z",
          "shell.execute_reply.started": "2024-04-11T17:37:32.953149Z"
        },
        "id": "3p879v1zXCHu",
        "outputId": "15c462c3-4d68-4da4-9265-78b0dbffecd5",
        "trusted": true
      },
      "outputs": [],
      "source": [
        "plt.figure(figsize=(15, 8), dpi=100)\n",
        "sns.stripplot(x='Company', y='Price', data=df, size=3)\n",
        "plt.xticks(rotation=45, fontsize=12)\n",
        "plt.yticks(fontsize=12)\n",
        "plt.ylim([0,100]) # The y-axis is limited to 100 to make it look better\n",
        "plt.title('Price vs Company', size=15)\n",
        "plt.show()"
      ]
    },
    {
      "cell_type": "code",
      "execution_count": null,
      "metadata": {
        "execution": {
          "iopub.execute_input": "2024-04-11T17:37:33.716857Z",
          "iopub.status.busy": "2024-04-11T17:37:33.71646Z",
          "iopub.status.idle": "2024-04-11T17:37:34.257616Z",
          "shell.execute_reply": "2024-04-11T17:37:34.256307Z",
          "shell.execute_reply.started": "2024-04-11T17:37:33.716824Z"
        },
        "id": "M8Gq8Q95XCHv",
        "outputId": "16e4a3c1-c563-4982-96c6-d38f3f0cf8a6",
        "trusted": true
      },
      "outputs": [],
      "source": [
        "plt.figure(figsize=(15, 8), dpi=100)\n",
        "sns.stripplot(x='Location', y='Price', data=df, size=3)\n",
        "plt.xticks(rotation=45, fontsize=12)\n",
        "plt.yticks(fontsize=12)\n",
        "plt.ylim([0,100])\n",
        "plt.title('Price vs Location', size=15)\n",
        "plt.show()"
      ]
    },
    {
      "cell_type": "code",
      "execution_count": null,
      "metadata": {
        "execution": {
          "iopub.execute_input": "2024-04-11T17:37:34.259679Z",
          "iopub.status.busy": "2024-04-11T17:37:34.259261Z",
          "iopub.status.idle": "2024-04-11T17:37:34.675934Z",
          "shell.execute_reply": "2024-04-11T17:37:34.67484Z",
          "shell.execute_reply.started": "2024-04-11T17:37:34.259642Z"
        },
        "id": "DBgDiAYDXCHv",
        "outputId": "adcde35f-d522-474e-de8f-622eb6a6384e",
        "trusted": true
      },
      "outputs": [],
      "source": [
        "plt.figure(figsize=(15, 8), dpi=100)\n",
        "sns.stripplot(x='Owner_Type', y='Price', data=df, size=2.5)\n",
        "plt.xticks(rotation=45, fontsize=12)\n",
        "plt.yticks(fontsize=12)\n",
        "plt.ylim([0,100])\n",
        "plt.title('Price vs Owner_Type', size=15)\n",
        "plt.show()"
      ]
    },
    {
      "cell_type": "code",
      "execution_count": null,
      "metadata": {
        "execution": {
          "iopub.execute_input": "2024-04-11T17:37:34.677843Z",
          "iopub.status.busy": "2024-04-11T17:37:34.67744Z",
          "iopub.status.idle": "2024-04-11T17:37:35.08946Z",
          "shell.execute_reply": "2024-04-11T17:37:35.088288Z",
          "shell.execute_reply.started": "2024-04-11T17:37:34.677805Z"
        },
        "id": "tWYJfgZ9XCHw",
        "outputId": "6d08eb05-1fb5-4c43-9c84-ad26b5c772a4",
        "trusted": true
      },
      "outputs": [],
      "source": [
        "plt.figure(figsize=(15, 8), dpi=100)\n",
        "sns.stripplot(x='Fuel_Type', y='Price', data=df, size=4)\n",
        "plt.xticks(rotation=45, fontsize=12)\n",
        "plt.yticks(fontsize=12)\n",
        "plt.ylim([0,100])\n",
        "plt.title('Price vs Fuel_Type', size=15)\n",
        "plt.show()"
      ]
    },
    {
      "cell_type": "code",
      "execution_count": null,
      "metadata": {
        "execution": {
          "iopub.execute_input": "2024-04-11T17:37:35.091162Z",
          "iopub.status.busy": "2024-04-11T17:37:35.09085Z",
          "iopub.status.idle": "2024-04-11T17:37:35.469391Z",
          "shell.execute_reply": "2024-04-11T17:37:35.468227Z",
          "shell.execute_reply.started": "2024-04-11T17:37:35.091134Z"
        },
        "id": "vZybo9f-XCHw",
        "outputId": "8b726bdd-100b-49bb-f3d1-ac126a28f55b",
        "trusted": true
      },
      "outputs": [],
      "source": [
        "plt.figure(figsize=(15, 8), dpi=100)\n",
        "sns.stripplot(x='Transmission', y='Price', data=df, size=4)\n",
        "plt.xticks(rotation=45, fontsize=12)\n",
        "plt.yticks(fontsize=12)\n",
        "plt.ylim([0,100])\n",
        "plt.title('Price vs Transmission', size=15)\n",
        "plt.show()"
      ]
    },
    {
      "cell_type": "code",
      "execution_count": null,
      "metadata": {
        "execution": {
          "iopub.execute_input": "2024-04-11T17:37:35.47191Z",
          "iopub.status.busy": "2024-04-11T17:37:35.471397Z",
          "iopub.status.idle": "2024-04-11T17:37:36.020773Z",
          "shell.execute_reply": "2024-04-11T17:37:36.019406Z",
          "shell.execute_reply.started": "2024-04-11T17:37:35.471869Z"
        },
        "id": "yEm61CsCXCHx",
        "outputId": "b93d7f95-048e-4e51-ea75-d91817c0ebe3",
        "trusted": true
      },
      "outputs": [],
      "source": [
        "plt.figure(figsize=(15, 8), dpi=100)\n",
        "sns.scatterplot(data=df, x='Year', y='Price')\n",
        "plt.xticks(rotation=0, fontsize=12)\n",
        "plt.yticks(fontsize=12)\n",
        "plt.title('Price vs Year', size=15)\n",
        "plt.show()"
      ]
    },
    {
      "cell_type": "code",
      "execution_count": null,
      "metadata": {
        "execution": {
          "iopub.execute_input": "2024-04-11T17:37:36.023261Z",
          "iopub.status.busy": "2024-04-11T17:37:36.022833Z",
          "iopub.status.idle": "2024-04-11T17:37:36.448492Z",
          "shell.execute_reply": "2024-04-11T17:37:36.447209Z",
          "shell.execute_reply.started": "2024-04-11T17:37:36.023221Z"
        },
        "id": "JQpr6LEUXCHx",
        "outputId": "c2a42d36-73aa-45ba-857e-bf16d3452d4e",
        "trusted": true
      },
      "outputs": [],
      "source": [
        "plt.figure(figsize=(15, 8), dpi=100)\n",
        "sns.scatterplot(data=df, x='Kilometers_Driven', y='Price')\n",
        "plt.xticks(rotation=0, fontsize=12)\n",
        "plt.yticks(fontsize=12)\n",
        "plt.title('Price vs Kilometers_Driven', size=15)\n",
        "plt.show()"
      ]
    },
    {
      "cell_type": "code",
      "execution_count": null,
      "metadata": {
        "execution": {
          "iopub.execute_input": "2024-04-11T17:37:36.450395Z",
          "iopub.status.busy": "2024-04-11T17:37:36.449984Z",
          "iopub.status.idle": "2024-04-11T17:37:36.872818Z",
          "shell.execute_reply": "2024-04-11T17:37:36.871521Z",
          "shell.execute_reply.started": "2024-04-11T17:37:36.450358Z"
        },
        "id": "CWSfiR2hXCHx",
        "outputId": "4ce77d97-672c-42a5-d798-febffbaf7b1c",
        "trusted": true
      },
      "outputs": [],
      "source": [
        "plt.figure(figsize=(15, 8), dpi=100)\n",
        "sns.scatterplot(data=df, x='Mileage', y='Price')\n",
        "plt.xticks(rotation=0, fontsize=12)\n",
        "plt.yticks(fontsize=12)\n",
        "plt.title('Price vs Mileage', size=15)\n",
        "plt.show()"
      ]
    },
    {
      "cell_type": "code",
      "execution_count": null,
      "metadata": {
        "execution": {
          "iopub.execute_input": "2024-04-11T17:37:36.874532Z",
          "iopub.status.busy": "2024-04-11T17:37:36.87416Z",
          "iopub.status.idle": "2024-04-11T17:37:37.202956Z",
          "shell.execute_reply": "2024-04-11T17:37:37.201776Z",
          "shell.execute_reply.started": "2024-04-11T17:37:36.874501Z"
        },
        "id": "PV9u32IJXCHy",
        "outputId": "381735aa-a881-4c12-a726-247a9815f27a",
        "trusted": true
      },
      "outputs": [],
      "source": [
        "plt.figure(figsize=(15, 8), dpi=100)\n",
        "sns.scatterplot(data=df, x='Engine', y='Price')\n",
        "plt.xticks(rotation=0, fontsize=12)\n",
        "plt.yticks(fontsize=12)\n",
        "plt.ylim([0,100])\n",
        "plt.title('Price vs Engine', size=15)\n",
        "plt.show()"
      ]
    },
    {
      "cell_type": "code",
      "execution_count": null,
      "metadata": {
        "execution": {
          "iopub.execute_input": "2024-04-11T17:37:37.205268Z",
          "iopub.status.busy": "2024-04-11T17:37:37.20486Z",
          "iopub.status.idle": "2024-04-11T17:37:37.561535Z",
          "shell.execute_reply": "2024-04-11T17:37:37.560115Z",
          "shell.execute_reply.started": "2024-04-11T17:37:37.205227Z"
        },
        "id": "K6jSoGe8XCHy",
        "outputId": "7e7745a6-5fe9-4e00-add9-72f33c623a18",
        "trusted": true
      },
      "outputs": [],
      "source": [
        "plt.figure(figsize=(15, 8), dpi=100)\n",
        "sns.scatterplot(data=df, x='Power', y='Price')\n",
        "plt.xticks(rotation=0, fontsize=12)\n",
        "plt.yticks(fontsize=12)\n",
        "plt.ylim([0,100])\n",
        "plt.title('Price vs Power', size=15)\n",
        "plt.show()"
      ]
    },
    {
      "cell_type": "code",
      "execution_count": null,
      "metadata": {
        "execution": {
          "iopub.execute_input": "2024-04-11T17:37:37.563266Z",
          "iopub.status.busy": "2024-04-11T17:37:37.562926Z",
          "iopub.status.idle": "2024-04-11T17:37:37.908632Z",
          "shell.execute_reply": "2024-04-11T17:37:37.907469Z",
          "shell.execute_reply.started": "2024-04-11T17:37:37.563235Z"
        },
        "id": "TfgXK8qfXCHy",
        "outputId": "ba2c36ef-e37a-4426-954b-d36d90b01cf3",
        "trusted": true
      },
      "outputs": [],
      "source": [
        "plt.figure(figsize=(15, 8), dpi=100)\n",
        "sns.scatterplot(data=df, x='Seats', y='Price')\n",
        "plt.xticks(rotation=45, fontsize=12)\n",
        "plt.yticks(fontsize=12)\n",
        "plt.ylim([0,100])\n",
        "plt.title('Price vs Seats', size=15)\n",
        "plt.show()"
      ]
    },
    {
      "cell_type": "code",
      "execution_count": null,
      "metadata": {
        "execution": {
          "iopub.execute_input": "2024-04-11T17:37:37.910154Z",
          "iopub.status.busy": "2024-04-11T17:37:37.909815Z",
          "iopub.status.idle": "2024-04-11T17:37:37.959438Z",
          "shell.execute_reply": "2024-04-11T17:37:37.958186Z",
          "shell.execute_reply.started": "2024-04-11T17:37:37.910125Z"
        },
        "id": "KqDJPcr-XCHz",
        "outputId": "f591e513-3e83-4402-bdc4-83e297cc2940",
        "scrolled": true,
        "trusted": true
      },
      "outputs": [],
      "source": [
        "CatCols = ['Company', 'Model', 'Location', 'Owner_Type', 'Fuel_Type', 'Transmission']\n",
        "\n",
        "df = pd.get_dummies(df, columns=CatCols, drop_first=True)\n",
        "df.head(5)"
      ]
    },
    {
      "cell_type": "code",
      "execution_count": null,
      "metadata": {
        "execution": {
          "iopub.execute_input": "2024-04-11T17:37:37.961137Z",
          "iopub.status.busy": "2024-04-11T17:37:37.960789Z",
          "iopub.status.idle": "2024-04-11T17:37:39.23593Z",
          "shell.execute_reply": "2024-04-11T17:37:39.234706Z",
          "shell.execute_reply.started": "2024-04-11T17:37:37.961107Z"
        },
        "id": "pYm2qu6JXCH0",
        "outputId": "b340e81d-1b09-4e8b-a0b9-d07f37a99bc0",
        "trusted": true
      },
      "outputs": [],
      "source": [
        "plt.figure(figsize=(10, 6))\n",
        "sns.heatmap(df.corr(), annot=False, cmap='Blues')\n",
        "plt.show()"
      ]
    },
    {
      "cell_type": "code",
      "execution_count": null,
      "metadata": {
        "execution": {
          "iopub.execute_input": "2024-04-11T17:37:39.237968Z",
          "iopub.status.busy": "2024-04-11T17:37:39.237545Z",
          "iopub.status.idle": "2024-04-11T17:37:39.247728Z",
          "shell.execute_reply": "2024-04-11T17:37:39.246294Z",
          "shell.execute_reply.started": "2024-04-11T17:37:39.237932Z"
        },
        "id": "GLiXcmgVXCH0",
        "trusted": true
      },
      "outputs": [],
      "source": [
        "X = df.drop('Price', axis=1)\n",
        "y = df['Price']"
      ]
    },
    {
      "cell_type": "code",
      "execution_count": null,
      "metadata": {
        "execution": {
          "iopub.execute_input": "2024-04-11T17:37:39.24953Z",
          "iopub.status.busy": "2024-04-11T17:37:39.2491Z",
          "iopub.status.idle": "2024-04-11T17:37:39.26436Z",
          "shell.execute_reply": "2024-04-11T17:37:39.263309Z",
          "shell.execute_reply.started": "2024-04-11T17:37:39.249491Z"
        },
        "id": "wHVA9t0DXCH0",
        "trusted": true
      },
      "outputs": [],
      "source": [
        "X_train, X_test, y_train, y_test = train_test_split(X, y, test_size=0.2, random_state=42)"
      ]
    },
    {
      "cell_type": "code",
      "execution_count": null,
      "metadata": {
        "execution": {
          "iopub.execute_input": "2024-04-11T17:37:39.266335Z",
          "iopub.status.busy": "2024-04-11T17:37:39.265874Z",
          "iopub.status.idle": "2024-04-11T17:37:39.283526Z",
          "shell.execute_reply": "2024-04-11T17:37:39.282029Z",
          "shell.execute_reply.started": "2024-04-11T17:37:39.266295Z"
        },
        "id": "AeEbGRpcXCH1",
        "outputId": "3a784806-7db3-488b-e906-187aa6af1ac0",
        "trusted": true
      },
      "outputs": [],
      "source": [
        "print('X_train shape: ', X_train.shape)\n",
        "print('X_test shape: ', X_test.shape)\n",
        "print('y_train shape: ', y_train.shape)\n",
        "print('y_test shape: ',y_test.shape)"
      ]
    },
    {
      "cell_type": "code",
      "execution_count": null,
      "metadata": {
        "execution": {
          "iopub.execute_input": "2024-04-11T17:37:39.285638Z",
          "iopub.status.busy": "2024-04-11T17:37:39.285108Z",
          "iopub.status.idle": "2024-04-11T17:37:39.388782Z",
          "shell.execute_reply": "2024-04-11T17:37:39.387174Z",
          "shell.execute_reply.started": "2024-04-11T17:37:39.285602Z"
        },
        "id": "zb1g6Cl8XCH1",
        "outputId": "aefdd812-6949-432f-9357-34da6ec94004",
        "trusted": true
      },
      "outputs": [],
      "source": [
        "lin_reg = LinearRegression()\n",
        "lin_reg.fit(X_train, y_train)"
      ]
    },
    {
      "cell_type": "markdown",
      "metadata": {
        "id": "vA5xM5ZvXCH2"
      },
      "source": [
        "<div style=\"border: 2px solid #000000; border-radius: 5px; padding: 10px; font-family: 'Times New Roman', Times, serif; font-size: 18px;\">\n",
        "    <div style=\"text-align: left;\">\n",
        "        <p><strong>There are some performance measures used in statistics and data analysis processes. These metrics are used to evaluate a model's predictive ability and success. These metrics include Mean Absolute Error (MAE), Mean Square Error (MSE), Root Mean Square Error (RMSE), and R-Squared Score (R^2).</strong></p>\n",
        "        <ol>\n",
        "            <li><strong>Mean Absolute Error (MAE):</strong> It expresses the average of the absolute values of the differences between the predicted values and the actual values. A lower MAE value indicates that the model is performing better and its predictions are closer to the true values. This measurement is used to evaluate the accuracy of the model in regression problems. </li>\n",
        "            <li><strong>Mean Square Error (MSE):</strong> It represents the average of the squared differences between predicted values and actual values. The value of MSE is always positive. The MSE value generally emphasizes large error values because the impact of large errors is increased by squaring the differences. It is used to evaluate the accuracy of the model in regression problems. </li>\n",
        "            <li><strong>Root Mean Square Error (RMSE):</strong> It is calculated by taking the square root of MSE. RMSE allows errors to be interpreted by returning them to the original unit of measurement and is a derivative of MSE. It is used to evaluate the accuracy of the model in regression problems.</li>\n",
        "            <li><strong>R-Squared Score (R^2):</strong> It is a metric that measures how well a regression model fits the data. This score indicates how much of the variance on the dependent variable is explained by the independent variables. R^2 takes a value between 0 and 1.</li>\n",
        "        </ol>\n",
        "        <p><strong>When these metrics are used together, you can more comprehensively evaluate a model's performance. For example:</strong></p>\n",
        "        <ul>\n",
        "            <li>Lower MAE and RMSE values indicate that a better model makes fewer errors.</li>\n",
        "            <li>There is a direct relationship between MSE and RMSE because RMSE is the square root of MSE.</li>\n",
        "            <li>The R-Squared Score indicates how well the fit to the data is. The closer it is to 1, the better the model fits the data. As it approaches 0, the model becomes less able to fit the data.</li>\n",
        "        </ul>\n",
        "        <p><strong>In summary, by using these metrics together, it is possible to understand and compare the performance of a model. Lower error values (MAE, MSE, RMSE) and higher R-Squared Score indicate the presence of a better model.</strong></p>\n",
        "    </div>\n",
        "</div>"
      ]
    },
    {
      "cell_type": "code",
      "execution_count": null,
      "metadata": {
        "execution": {
          "iopub.execute_input": "2024-04-11T17:37:39.392608Z",
          "iopub.status.busy": "2024-04-11T17:37:39.390883Z",
          "iopub.status.idle": "2024-04-11T17:37:39.402208Z",
          "shell.execute_reply": "2024-04-11T17:37:39.400616Z",
          "shell.execute_reply.started": "2024-04-11T17:37:39.392532Z"
        },
        "id": "sQK3syu7XCH2",
        "trusted": true
      },
      "outputs": [],
      "source": [
        "def evaluation(y_test, y_pred):\n",
        "    mae = mean_absolute_error(y_test, y_pred)\n",
        "    mse = mean_squared_error(y_test, y_pred)\n",
        "    rmse = np.sqrt(mean_squared_error(y_test, y_pred))\n",
        "    r_squared = r2_score(y_test, y_pred)\n",
        "    return mae, mse, rmse, r_squared"
      ]
    },
    {
      "cell_type": "code",
      "execution_count": null,
      "metadata": {
        "execution": {
          "iopub.execute_input": "2024-04-11T17:37:39.405966Z",
          "iopub.status.busy": "2024-04-11T17:37:39.404201Z",
          "iopub.status.idle": "2024-04-11T17:37:39.486516Z",
          "shell.execute_reply": "2024-04-11T17:37:39.484753Z",
          "shell.execute_reply.started": "2024-04-11T17:37:39.405908Z"
        },
        "id": "YSzqsuoNXCH3",
        "outputId": "90c05fb5-e26b-426c-8c75-b8b70063fe33",
        "trusted": true
      },
      "outputs": [],
      "source": [
        "y_pred = lin_reg.predict(X_test)\n",
        "\n",
        "mae, mse, rmse, r_squared = evaluation(y_test, y_pred)\n",
        "print(\"MAE:\", mae)\n",
        "print(\"MSE:\", mse)\n",
        "print(\"RMSE:\", rmse)\n",
        "print(\"R2 Score:\", r_squared)\n",
        "\n",
        "train_score = list()\n",
        "test_score = list()\n",
        "\n",
        "train_score.append(lin_reg.score(X_train,y_train))\n",
        "test_score.append(lin_reg.score(X_test,y_test))"
      ]
    },
    {
      "cell_type": "code",
      "execution_count": null,
      "metadata": {
        "execution": {
          "iopub.execute_input": "2024-04-11T17:37:39.492239Z",
          "iopub.status.busy": "2024-04-11T17:37:39.488907Z",
          "iopub.status.idle": "2024-04-11T17:37:39.541562Z",
          "shell.execute_reply": "2024-04-11T17:37:39.540014Z",
          "shell.execute_reply.started": "2024-04-11T17:37:39.492163Z"
        },
        "id": "OAlfwhEnXCH3",
        "outputId": "f0d966d8-a405-4b51-b466-0f556655cbea",
        "trusted": true
      },
      "outputs": [],
      "source": [
        "ridge = Ridge()\n",
        "ridge.fit(X_train, y_train)"
      ]
    },
    {
      "cell_type": "code",
      "execution_count": null,
      "metadata": {
        "execution": {
          "iopub.execute_input": "2024-04-11T17:37:39.545836Z",
          "iopub.status.busy": "2024-04-11T17:37:39.543964Z",
          "iopub.status.idle": "2024-04-11T17:37:39.633829Z",
          "shell.execute_reply": "2024-04-11T17:37:39.632303Z",
          "shell.execute_reply.started": "2024-04-11T17:37:39.545778Z"
        },
        "id": "j_c_QKN6XCH6",
        "outputId": "ddf9ea2a-2dc0-4be7-b055-773f800c5d7d",
        "trusted": true
      },
      "outputs": [],
      "source": [
        "predictions = ridge.predict(X_test)\n",
        "\n",
        "mae, mse, rmse, r_squared = evaluation(y_test, predictions)\n",
        "print(\"MAE:\", mae)\n",
        "print(\"MSE:\", mse)\n",
        "print(\"RMSE:\", rmse)\n",
        "print(\"R2 Score:\", r_squared)\n",
        "\n",
        "train_score.append(ridge.score(X_train,y_train))\n",
        "test_score.append(ridge.score(X_test,y_test))"
      ]
    },
    {
      "cell_type": "code",
      "execution_count": null,
      "metadata": {
        "execution": {
          "iopub.execute_input": "2024-04-11T17:37:39.637082Z",
          "iopub.status.busy": "2024-04-11T17:37:39.636071Z",
          "iopub.status.idle": "2024-04-11T17:37:39.756081Z",
          "shell.execute_reply": "2024-04-11T17:37:39.754478Z",
          "shell.execute_reply.started": "2024-04-11T17:37:39.637028Z"
        },
        "id": "WN-xe-KdXCH7",
        "outputId": "925f4727-a533-4077-8c8b-0c57fcd3e4de",
        "scrolled": true,
        "trusted": true
      },
      "outputs": [],
      "source": [
        "lasso = Lasso()\n",
        "lasso.fit(X_train, y_train)"
      ]
    },
    {
      "cell_type": "code",
      "execution_count": null,
      "metadata": {
        "execution": {
          "iopub.execute_input": "2024-04-11T17:37:39.759498Z",
          "iopub.status.busy": "2024-04-11T17:37:39.758499Z",
          "iopub.status.idle": "2024-04-11T17:37:39.858348Z",
          "shell.execute_reply": "2024-04-11T17:37:39.856448Z",
          "shell.execute_reply.started": "2024-04-11T17:37:39.759442Z"
        },
        "id": "0cqOZRdcXCH7",
        "outputId": "cfbb4def-a818-49ff-8e15-59e2e7132374",
        "scrolled": true,
        "trusted": true
      },
      "outputs": [],
      "source": [
        "predictions = lasso.predict(X_test)\n",
        "\n",
        "mae, mse, rmse, r_squared = evaluation(y_test, predictions)\n",
        "print(\"MAE:\", mae)\n",
        "print(\"MSE:\", mse)\n",
        "print(\"RMSE:\", rmse)\n",
        "print(\"R2 Score:\", r_squared)\n",
        "\n",
        "train_score.append(lasso.score(X_train,y_train))\n",
        "test_score.append(lasso.score(X_test,y_test))"
      ]
    },
    {
      "cell_type": "code",
      "execution_count": null,
      "metadata": {
        "execution": {
          "iopub.execute_input": "2024-04-11T17:37:39.86843Z",
          "iopub.status.busy": "2024-04-11T17:37:39.861677Z",
          "iopub.status.idle": "2024-04-11T17:37:39.970824Z",
          "shell.execute_reply": "2024-04-11T17:37:39.969278Z",
          "shell.execute_reply.started": "2024-04-11T17:37:39.868339Z"
        },
        "id": "Hksh_WBgXCH8",
        "outputId": "26c18e9c-8dd8-454c-c731-148308548bce",
        "trusted": true
      },
      "outputs": [],
      "source": [
        "elastic_net = ElasticNet()\n",
        "elastic_net.fit(X_train, y_train)"
      ]
    },
    {
      "cell_type": "code",
      "execution_count": null,
      "metadata": {
        "execution": {
          "iopub.execute_input": "2024-04-11T17:37:39.985813Z",
          "iopub.status.busy": "2024-04-11T17:37:39.980367Z",
          "iopub.status.idle": "2024-04-11T17:37:40.042755Z",
          "shell.execute_reply": "2024-04-11T17:37:40.041226Z",
          "shell.execute_reply.started": "2024-04-11T17:37:39.985714Z"
        },
        "id": "cRsGDhItXCH9",
        "outputId": "3f8ba160-3d00-4dd2-b6bf-e01762dcca37",
        "trusted": true
      },
      "outputs": [],
      "source": [
        "predictions = elastic_net.predict(X_test)\n",
        "\n",
        "mae, mse, rmse, r_squared = evaluation(y_test, predictions)\n",
        "print(\"MAE:\", mae)\n",
        "print(\"MSE:\", mse)\n",
        "print(\"RMSE:\", rmse)\n",
        "print(\"R2 Score:\", r_squared)\n",
        "\n",
        "train_score.append(elastic_net.score(X_train,y_train))\n",
        "test_score.append(elastic_net.score(X_test,y_test))"
      ]
    },
    {
      "cell_type": "code",
      "execution_count": null,
      "metadata": {
        "execution": {
          "iopub.execute_input": "2024-04-11T17:37:40.04534Z",
          "iopub.status.busy": "2024-04-11T17:37:40.044564Z",
          "iopub.status.idle": "2024-04-11T17:37:41.275241Z",
          "shell.execute_reply": "2024-04-11T17:37:41.273899Z",
          "shell.execute_reply.started": "2024-04-11T17:37:40.045299Z"
        },
        "id": "i4PvBHydXCH-",
        "outputId": "d76c568d-e578-4251-def9-b6e430d39cc8",
        "trusted": true
      },
      "outputs": [],
      "source": [
        "random_forest = RandomForestRegressor(n_estimators=50, max_depth=10, min_samples_split=5)\n",
        "random_forest.fit(X_train, y_train)"
      ]
    },
    {
      "cell_type": "code",
      "execution_count": null,
      "metadata": {
        "execution": {
          "iopub.execute_input": "2024-04-11T17:37:41.277578Z",
          "iopub.status.busy": "2024-04-11T17:37:41.277169Z",
          "iopub.status.idle": "2024-04-11T17:37:41.351651Z",
          "shell.execute_reply": "2024-04-11T17:37:41.350364Z",
          "shell.execute_reply.started": "2024-04-11T17:37:41.277544Z"
        },
        "id": "2hIf_whqXCH-",
        "outputId": "c05af4de-b5c3-4fbf-c9fd-93e62e6cd4ed",
        "trusted": true
      },
      "outputs": [],
      "source": [
        "predictions = random_forest.predict(X_test)\n",
        "\n",
        "mae, mse, rmse, r_squared = evaluation(y_test, predictions)\n",
        "print(\"MAE:\", mae)\n",
        "print(\"MSE:\", mse)\n",
        "print(\"RMSE:\", rmse)\n",
        "print(\"R2 Score:\", r_squared)\n",
        "\n",
        "train_score.append(random_forest.score(X_train,y_train))\n",
        "test_score.append(random_forest.score(X_test,y_test))"
      ]
    },
    {
      "cell_type": "code",
      "execution_count": null,
      "metadata": {
        "execution": {
          "iopub.execute_input": "2024-04-11T18:04:15.810281Z",
          "iopub.status.busy": "2024-04-11T18:04:15.809856Z",
          "iopub.status.idle": "2024-04-11T18:04:17.30608Z",
          "shell.execute_reply": "2024-04-11T18:04:17.304676Z",
          "shell.execute_reply.started": "2024-04-11T18:04:15.810247Z"
        },
        "id": "RO4qoa1QXCH-",
        "outputId": "4aae3c20-09d9-431a-e4da-fe211a157c86",
        "trusted": true
      },
      "outputs": [],
      "source": [
        "import matplotlib.pyplot as plt\n",
        "\n",
        "def plot_actual_vs_predicted(ax, model_name, y_test, predictions):\n",
        "    ax.scatter(y_test, predictions)\n",
        "    ax.plot(y_test, y_test, color='gray', linestyle='--')\n",
        "    ax.set_title(f'Actual vs Predicted Prices ({model_name})')\n",
        "    ax.set_xlabel('Actual Prices')\n",
        "    ax.set_ylabel('Predicted Prices')\n",
        "    ax.grid(True)\n",
        "\n",
        "fig, axs = plt.subplots(3, 2, figsize=(16, 12))\n",
        "axs = axs.flatten()\n",
        "\n",
        "lin_reg_predictions = lin_reg.predict(X_test)\n",
        "plot_actual_vs_predicted(axs[0], 'Linear Regression', y_test, lin_reg_predictions)\n",
        "\n",
        "ridge_predictions = ridge.predict(X_test)\n",
        "plot_actual_vs_predicted(axs[1], 'Ridge Regression', y_test, ridge_predictions)\n",
        "\n",
        "lasso_predictions = lasso.predict(X_test)\n",
        "plot_actual_vs_predicted(axs[2], 'Lasso Regression', y_test, lasso_predictions)\n",
        "\n",
        "elastic_net_predictions = elastic_net.predict(X_test)\n",
        "plot_actual_vs_predicted(axs[3], 'Elastic Net Regression', y_test, elastic_net_predictions)\n",
        "\n",
        "random_forest_predictions = random_forest.predict(X_test)\n",
        "plot_actual_vs_predicted(axs[4], 'Random Forest Regression', y_test, random_forest_predictions)\n",
        "\n",
        "axs[5].axis('off')\n",
        "\n",
        "plt.tight_layout()\n",
        "plt.show()\n"
      ]
    },
    {
      "cell_type": "code",
      "execution_count": null,
      "metadata": {
        "execution": {
          "iopub.execute_input": "2024-04-11T17:37:41.353209Z",
          "iopub.status.busy": "2024-04-11T17:37:41.352894Z",
          "iopub.status.idle": "2024-04-11T17:37:41.368778Z",
          "shell.execute_reply": "2024-04-11T17:37:41.367424Z",
          "shell.execute_reply.started": "2024-04-11T17:37:41.353181Z"
        },
        "id": "CIV4LNKfXCIC",
        "outputId": "2d81940d-5dc3-4129-b3a6-b630c1cea857",
        "trusted": true
      },
      "outputs": [],
      "source": [
        "model_names = ['Linear Regression','Ridge Regression','Lasso Regression','Elastic-Net Regression','Random Forest Regression']\n",
        "\n",
        "scores = pd.DataFrame([model_names,train_score,test_score])\n",
        "scores = scores.transpose()\n",
        "scores.columns = [ 'Model','Training Set Accuracy','Test Set Accuracy']\n",
        "\n",
        "scores"
      ]
    },
    {
      "cell_type": "code",
      "execution_count": null,
      "metadata": {},
      "outputs": [],
      "source": []
    }
  ],
  "metadata": {
    "colab": {
      "name": "Used Car Price Prediction 🚗",
      "provenance": []
    },
    "kaggle": {
      "accelerator": "none",
      "dataSources": [
        {
          "datasetId": 245550,
          "sourceId": 518431,
          "sourceType": "datasetVersion"
        }
      ],
      "dockerImageVersionId": 30664,
      "isGpuEnabled": false,
      "isInternetEnabled": false,
      "language": "python",
      "sourceType": "notebook"
    },
    "kernelspec": {
      "display_name": "Python 3",
      "language": "python",
      "name": "python3"
    },
    "language_info": {
      "codemirror_mode": {
        "name": "ipython",
        "version": 3
      },
      "file_extension": ".py",
      "mimetype": "text/x-python",
      "name": "python",
      "nbconvert_exporter": "python",
      "pygments_lexer": "ipython3",
      "version": "3.9.18"
    }
  },
  "nbformat": 4,
  "nbformat_minor": 0
}
